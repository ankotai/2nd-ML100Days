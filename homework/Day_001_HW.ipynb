{
 "cells": [
  {
   "cell_type": "markdown",
   "metadata": {},
   "source": [
    "作業1\n",
    "Competition:  Digit Recognizer  \n",
    "1.\t了解電腦視別的基礎 \n",
    "2.\t資料來自MNIST,資料包括手寫數字 \n",
    "3.\t資料型態為圖像,非結構化資料\n",
    "4.\t解決的問題如何評估? 識別準確率\n",
    "\n",
    "作業2:\n",
    "經營自由載客車隊 \n",
    "1.\t問題:車隊資源有限的情況下,怎麼讓汽車出車次數越大越好. 提高載客媒合率\n",
    "2.\t不同區域,不同時段有不同的坐車需求. 了解所有區域的需求分佈. \n",
    "3.\t資料蒐集的方式: 根據過往的載客資料,統計分析,未來資料也一併更新\n",
    "4.\t蒐集來的資料型態:結構化資料. 區域,時間,數量 \n",
    "5.\t只要車隊出車次數並且營業額都是正成長. 這樣的方式就是有效的\n",
    "\n"
   ]
  },
  {
   "cell_type": "markdown",
   "metadata": {},
   "source": [
    "## 練習時間\n",
    "#### 請寫一個函式用來計算 Mean Square Error\n",
    "$ MSE = \\frac{1}{n}\\sum_{i=1}^{n}{(Y_i - \\hat{Y}_i)^2} $\n",
    "\n",
    "### Hint: [如何取平方](https://googoodesign.gitbooks.io/-ezpython/unit-1.html)"
   ]
  },
  {
   "cell_type": "code",
   "execution_count": 5,
   "metadata": {},
   "outputs": [],
   "source": [
    "import numpy as np\n",
    "import matplotlib.pyplot as plt"
   ]
  },
  {
   "cell_type": "code",
   "execution_count": 6,
   "metadata": {},
   "outputs": [],
   "source": [
    "# def mean_squared_error(y,y_hat):\n",
    "#     sum = 0.0\n",
    "#     for i in np.nditer(y):\n",
    "#         sum = sum + (y[i]-y_hat[i])**2\n",
    "#     return sum\n",
    "\n",
    "def mean_squared_error(y,y_hat):\n",
    "    \n",
    "    mse = sum((y-y_hat)**2)/len(y)\n",
    "    return mse\n",
    "    \n",
    "    \"\"\"\n",
    "    請完成這個 Function 後往下執行\n",
    "    \"\"\"\n"
   ]
  },
  {
   "cell_type": "code",
   "execution_count": 9,
   "metadata": {},
   "outputs": [],
   "source": [
    "def mean_absolute_error(y, yp):\n",
    "    \"\"\"\n",
    "    計算 MAE\n",
    "    Args:\n",
    "        - y: 實際值\n",
    "        - yp: 預測值\n",
    "    Return:\n",
    "        - mae: MAE\n",
    "    \"\"\"\n",
    "    mae = MAE = sum(abs(y - yp)) / len(y)\n",
    "    return mae\n",
    "\n",
    "# MAE = mean_absolute_error(y, yp)\n",
    "# print(\"The Mean absolute error is %.3f\" % (MAE))"
   ]
  },
  {
   "cell_type": "code",
   "execution_count": 11,
   "metadata": {},
   "outputs": [
    {
     "name": "stdout",
     "output_type": "stream",
     "text": [
      "[ 14.23564359  -4.20551828 -11.07003412   5.61214154  -9.40420955\n",
      "  23.81104637   0.52369595  41.92537056  39.95014979  20.97677342\n",
      "  54.51316284  34.13632735  44.80767167  31.88623101  40.64394296\n",
      "  41.48426969  30.57863311  71.58316374  76.68251451  65.50676447\n",
      "  82.41622345  56.39051929  52.96546113  66.30940138  84.96039395\n",
      "  72.62657043  83.03084611  75.53503615  78.77505612 105.57476809\n",
      "  91.32189209  89.80398221  61.22785372 107.04115831  91.72452054\n",
      "  91.81001668 112.04780396 117.19718003  98.80686541  98.53980028\n",
      " 120.8120129  135.50661045 132.31174102 148.12159998 138.67111321\n",
      " 128.18521571 121.55819844 187.32426678 140.46171318 126.53208972\n",
      " 109.84451767]\n",
      "14.235643593868655\n",
      "-4.205518284348781\n",
      "51\n"
     ]
    }
   ],
   "source": [
    "w = 3\n",
    "b = 0.5\n",
    "\n",
    "x_lin = np.linspace(0, 50, 51)\n",
    "\n",
    "y = (x_lin + np.random.randn(51) * 5) * w + b\n",
    "\n",
    "type(y)\n",
    "len(y)\n",
    "print(y)\n",
    "print(y[0])\n",
    "print(y[1])\n",
    "print(len(y))"
   ]
  },
  {
   "cell_type": "code",
   "execution_count": 12,
   "metadata": {},
   "outputs": [
    {
     "data": {
      "image/png": "[encoded data removed]",
      "text/plain": [
       "<Figure size 432x288 with 1 Axes>"
      ]
     },
     "metadata": {
      "needs_background": "light"
     },
     "output_type": "display_data"
    }
   ],
   "source": [
    "w = 3\n",
    "b = 0.5\n",
    "\n",
    "x_lin = np.linspace(0, 100, 101)\n",
    "\n",
    "y = (x_lin + np.random.randn(101) * 5) * w + b\n",
    "\n",
    "plt.plot(x_lin, y, 'b.', label = 'data points')\n",
    "plt.title(\"Assume we have data points\")\n",
    "plt.legend(loc = 2)\n",
    "plt.show()"
   ]
  },
  {
   "cell_type": "code",
   "execution_count": 13,
   "metadata": {},
   "outputs": [
    {
     "data": {
      "image/png": "[encoded data removed]",
      "text/plain": [
       "<Figure size 432x288 with 1 Axes>"
      ]
     },
     "metadata": {
      "needs_background": "light"
     },
     "output_type": "display_data"
    }
   ],
   "source": [
    "y_hat = x_lin * w + b\n",
    "plt.plot(x_lin, y, 'b.', label = 'data')\n",
    "plt.plot(x_lin, y_hat, 'r-', label = 'prediction')\n",
    "plt.title(\"Assume we have data points (And the prediction)\")\n",
    "plt.legend(loc = 2)\n",
    "plt.show()"
   ]
  },
  {
   "cell_type": "code",
   "execution_count": 14,
   "metadata": {},
   "outputs": [
    {
     "name": "stdout",
     "output_type": "stream",
     "text": [
      "The Mean squared error is 226.819\n",
      "The Mean absolute error is 12.168\n"
     ]
    }
   ],
   "source": [
    "# 執行 Function, 確認有沒有正常執行\n",
    "MSE = mean_squared_error(y, y_hat)\n",
    "MAE = mean_absolute_error(y, y_hat)\n",
    "print(\"The Mean squared error is %.3f\" % (MSE))\n",
    "print(\"The Mean absolute error is %.3f\" % (MAE))"
   ]
  },
  {
   "cell_type": "code",
   "execution_count": null,
   "metadata": {},
   "outputs": [],
   "source": []
  }
 ],
 "metadata": {
  "anaconda-cloud": {},
  "kernelspec": {
   "display_name": "Python 3",
   "language": "python",
   "name": "python3"
  },
  "language_info": {
   "codemirror_mode": {
    "name": "ipython",
    "version": 3
   },
   "file_extension": ".py",
   "mimetype": "text/x-python",
   "name": "python",
   "nbconvert_exporter": "python",
   "pygments_lexer": "ipython3",
   "version": "3.6.8"
  }
 },
 "nbformat": 4,
 "nbformat_minor": 1
}
